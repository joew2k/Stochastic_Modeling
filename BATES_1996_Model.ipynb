{
 "cells": [
  {
   "cell_type": "code",
   "execution_count": 21,
   "metadata": {},
   "outputs": [],
   "source": [
    "# Import the necessary libraries\n",
    "import numpy as np\n",
    "from scipy.integrate import quad"
   ]
  },
  {
   "cell_type": "markdown",
   "metadata": {},
   "source": [
    "## Lewis (2001) Approach\n",
    "We already know, the value of a call option under Lewis (2001) is determine by:\n",
    "$$\\begin{equation*} C_0 = S_0 - \\frac{\\sqrt{S_0K}e^{-rT}}{\\pi} \\end{equation*} \\int_0^\\infty \\mathbf{Re}[e^{izk} \\varphi^{B96}(z - i/2)] \\frac{dz}{z^2 + 1/4}$$\n",
    "\n",
    "Where $\\varphi^{B96}()$ is the characteristics function of the model. In this case, the characteristics function of Bates (1996) was given by\n",
    "\n",
    "$$\\varphi_0^{B96}(u, T) = \\varphi_0^{H93}\\varphi_0^{M76J}(u, T)$$\n",
    "which is enssentially the product of two characteristis functions. Let's first define each of these characteristics functions.\n",
    "\n",
    "### Characteristics Functions\n",
    "#### Heston (1993) Characteristics Function\n",
    "The characteristics function of Heston (1993) is given by\n",
    "$$\\varphi{H93}(u, T) = e^{H_1(u, T) + H_2(u, T)v_o}$$\n",
    "where \n",
    "$$\n",
    "\\\n",
    "\\begin{equation*}\n",
    "H_1 (u, T) \\equiv r_0 uiT + \\frac{c_1}{\\sigma_\\nu^2}\\Biggl\\{(\\kappa_\\nu - \\rho \\sigma_\\nu ui+c_2) T - 2 log \\left[\\frac{1 - c_3e^{c_2T}}{1 - c_3}\\right]  \\Biggl\\}\n",
    "\\end{equation*}\n",
    "$$\n",
    "$$\\begin{equation*} H_2(u, T) = \\frac{\\kappa_\\nu - \\rho\\sigma_\\nu ui + c_2}{\\sigma_\\nu} \\left[\\frac{1 - e^{c_2T}}{1 - c_3e^{c_2T}}\\right] \\end{equation*}$$\n",
    "\n",
    "$$c_1 = \\kappa_\\nu \\theta_\\nu$$\n",
    "$$c2 = - \\sqrt{(\\rho\\sigma_\\nu ui - \\kappa_\\nu)^2 - \\sigma_\\nu^2(-ui - u^2)} $$\n",
    "\n",
    "$$c3 \\equiv \\frac{\\kappa_\\nu - \\rho \\sigma_\\nu ui + c_2}{\\kappa_\\nu - \\rho \\sigma_\\nu ui - c_2}"
   ]
  },
  {
   "cell_type": "markdown",
   "metadata": {},
   "source": []
  },
  {
   "cell_type": "code",
   "execution_count": 22,
   "metadata": {},
   "outputs": [],
   "source": [
    "def H93_char_fun(u, T, r, kappa_v, theta_v, sigma_v, rho, v0):\n",
    "    \"\"\" Valuation of European call in H93 model via Lewis (2001) Fourier-based apprach:\n",
    "     characteristic function.\n",
    "      Parameter definition see function BCC_call_value \"\"\"\n",
    "    c1 = kappa_v * theta_v\n",
    "    c2 = -np.sqrt(\n",
    "        (rho * sigma_v * u * 1j - kappa_v)**2 - sigma_v**2 * (-u *1j - u**2)\n",
    "        )\n",
    "    c3 = (kappa_v - rho * sigma_v * u * 1j + c2)/(\n",
    "        kappa_v - rho * sigma_v * u * 1j - c2)\n",
    "\n",
    "    H1 = r * u * 1j * T + (c1 / sigma_v**2) * (\n",
    "        (kappa_v - rho * sigma_v * u * 1j + c2) * T\n",
    "        - 2 * np.log((1 - c3 * np.exp(c2*T))/(1 - c3))\n",
    "        )\n",
    "    H2 = (\n",
    "        (kappa_v - rho * sigma_v * u * 1j + c2)\n",
    "        / sigma_v**2 *\n",
    "        ((1 - np.exp(c2 *T))/(1 - c3 * np.exp(c2*T)))\n",
    "    )\n",
    "    char_func_value = np.exp(H1 + H2 * v0)\n",
    "    return char_func_value"
   ]
  },
  {
   "cell_type": "markdown",
   "metadata": {},
   "source": [
    "### Merton (1976) Adjusted Characyteristics Function (Only Jump Component)\n",
    "In order to produce a stocahstic volatity jump-difusion model, we need to incorporate Only the jump component of the Merton (1976) characteristic function.\n",
    "\n",
    "The adjusted (only Jump) characteristics function of Merton (1976) is therefore given by:\n",
    "$$\\begin{equation*} \\varphi_0^{M76J}(u, T) = e^{\\left(\\left( iu\\omega + \\lambda(e^{iu \\mu_j -u^2\\delta^2/2} - 1)\\right)T\\right)} \\end{equation*}$$\n",
    "\n",
    "where, \n",
    "$$\\omega = -\\lambda \\left( e^{\\mu_j + \\delta^2/2} - 1 \\right)$$\n",
    "\n",
    "Let's Code\n"
   ]
  },
  {
   "cell_type": "code",
   "execution_count": 23,
   "metadata": {},
   "outputs": [],
   "source": [
    "def M76J_char_func(u, T, lamb, mu, delta):\n",
    "    \"\"\"\n",
    "    Adjusted Characteristic function for  Merton '76 Model: Only jump component\n",
    "    \"\"\"\n",
    "\n",
    "    omega = -lamb * (np.exp(mu + 0.5 *delta**2 ) - 1)\n",
    "    char_func_value = np.exp(\n",
    "        (1j * u * omega + lamb * (np.exp(1j * u * mu - u**2 * 0.5 * delta**2) - 1) * T)\n",
    "    )\n",
    "\n",
    "    return char_func_value"
   ]
  },
  {
   "cell_type": "markdown",
   "metadata": {},
   "source": [
    "### Bates (1996) Characteristic Function\n",
    "Now we can combine both previous characteristics functions to produce the one we are interested in"
   ]
  },
  {
   "cell_type": "code",
   "execution_count": 24,
   "metadata": {},
   "outputs": [],
   "source": [
    "def B96_char_func(u, T, r, kappa_v, theta_v, sigma_v, rho, v0, lamb, mu, delta):\n",
    "    \"\"\"\n",
    "    Bates (1996) characteristic function\n",
    "    \"\"\"\n",
    "    H93 = H93_char_fun(u, T, r, kappa_v, theta_v, sigma_v, rho, v0)\n",
    "    M76J = M76J_char_func(u, T, lamb, mu, delta)\n",
    "\n",
    "    return H93 * M76J"
   ]
  },
  {
   "cell_type": "markdown",
   "metadata": {},
   "source": [
    "### Call and Integral Value in Bates (1996)\n",
    "The next step is to calculate the value of the Lewis (2001) integral for the specific case of the Bates (1996) characteristic function"
   ]
  },
  {
   "cell_type": "code",
   "execution_count": 25,
   "metadata": {},
   "outputs": [],
   "source": [
    "def B96_int_func(u, S0, K, r, kappa_v, theta_v, sigma_v, rho, v0, lamb, mu, delta):\n",
    "    \"\"\"\n",
    "    Lewis (2001) integral value for Bates 1996 characteristic function.\n",
    "    \"\"\"\n",
    "    char_func_value = B96_char_func(\n",
    "        u -1j * 0.5, T, r, kappa_v, theta_v, sigma_v, rho, v0, lamb, mu, delta\n",
    "    )\n",
    "    int_func_value = (\n",
    "        1 / (u**2 + 0.25) * (np.exp(1j * u * np.log(S0 / K)) * char_func_value).real\n",
    "    )\n",
    "    return int_func_value"
   ]
  },
  {
   "cell_type": "markdown",
   "metadata": {},
   "source": [
    "And, finally, we also need a function to compute the overall call option value once we have all the ingredients"
   ]
  },
  {
   "cell_type": "markdown",
   "metadata": {},
   "source": []
  },
  {
   "cell_type": "code",
   "execution_count": 26,
   "metadata": {},
   "outputs": [],
   "source": [
    "def B96_call_value(S0, K, T, r, kappa_v, theta_v, sigma_v, rho, v0, lamb, mu, delta):\n",
    "    \"\"\"\n",
    "    Valuation of European call option in B96 Model via Lewis (2001)\n",
    "    Parameters:\n",
    "    =============\n",
    "    S0:         float\n",
    "                initial stock/index level\n",
    "    K:          float\n",
    "                strike price\n",
    "    T:          float\n",
    "                Time to maturity (for t=0)\n",
    "    r:          float\n",
    "                constant risk-free short rate\n",
    "    kappa_v:    float\n",
    "                mean-reversion factor\n",
    "    theta_v:    float\n",
    "                long-run mean of variance\n",
    "    sigma_v:    float\n",
    "                volatility of variance\n",
    "    rho:        float\n",
    "                corelation between variance and stock/index level\n",
    "    v0:         float\n",
    "                initial level of variance\n",
    "    lamb:       float\n",
    "                jump intensity\n",
    "    mu:         float\n",
    "                expected jump size\n",
    "    delta:      float\n",
    "                standard deviation of jump\n",
    "    =============\n",
    "    \"\"\"\n",
    "    int_value = quad(lambda u: B96_int_func(\n",
    "        u, S0, K, r, kappa_v, theta_v, sigma_v, rho, v0, lamb, mu, delta\n",
    "    ),\n",
    "    0,\n",
    "    np.inf,\n",
    "    limit=250\n",
    "    )[0]\n",
    "    call_value = max(0, S0 - (np.sqrt(S0 * K) * np.exp(-r * T))/np.pi * int_value)\n",
    "    return call_value"
   ]
  },
  {
   "cell_type": "markdown",
   "metadata": {},
   "source": [
    "### Pricing via Lewis (2001) with bates (1996)"
   ]
  },
  {
   "cell_type": "code",
   "execution_count": 27,
   "metadata": {},
   "outputs": [],
   "source": [
    "# General Parameter\n",
    "S0 = 100\n",
    "K = 100\n",
    "T = 1\n",
    "r = 0.05\n",
    "\n",
    "# Heston '93 parameters\n",
    "kappa_v = 1.5\n",
    "theta_v = 0.02\n",
    "sigma_v = 0.15\n",
    "rho = 0.1\n",
    "v0 = 0.01\n",
    "\n",
    "# merton '76 parameters\n",
    "lamb = 0.25\n",
    "mu = -0.2\n",
    "delta = 0.1\n",
    "sigma = np.sqrt(v0)"
   ]
  },
  {
   "cell_type": "code",
   "execution_count": 28,
   "metadata": {},
   "outputs": [
    {
     "name": "stdout",
     "output_type": "stream",
     "text": [
      "B96 Call option price via Lewis(2001): $    8.9047\n"
     ]
    }
   ],
   "source": [
    "print(\n",
    "    \"B96 Call option price via Lewis(2001): $%10.4f\" % B96_call_value(S0, K, T, r, kappa_v, theta_v, sigma_v, rho, v0, lamb, mu, delta)\n",
    ")"
   ]
  },
  {
   "cell_type": "markdown",
   "metadata": {},
   "source": [
    "### FFT Approach - Carr and Madan (1999)\n",
    "As an alternative to Lewis (2001), we could also implement the FFT algorithim. essentially, we can aply FFT to the integral in the call option price derived by Carr and Madan (1999):\n",
    "$$\\begin{equation*} C_0 = \\frac{e^{-\\alpha k}}{\\pi} \\int_0^\\infty  e^{i\\nu k}\\frac{e^{-rT} \\varphi^{B96}(\\nu - (\\alpha + 1)i, T)}{\\alpha^2 + \\alpha - \\nu^2 + i(2\\alpha + 1)\\nu} d\\nu \\end{equation*}$$"
   ]
  },
  {
   "cell_type": "code",
   "execution_count": 49,
   "metadata": {},
   "outputs": [],
   "source": [
    "def B96_call_FFT(S0, K, T, r, kappa_v, theta_v, sigma_v, rho, v0, lamb, mu, delta):\n",
    "    \"\"\"\n",
    "    Call option price in Bates (1996) under FFT\n",
    "    \"\"\"\n",
    "    k = np.log(K / S0)\n",
    "    g = 1 # factor to increase accuracy\n",
    "    N = g * 4096\n",
    "    eps = (g * 150) ** -1\n",
    "    eta = 2 * np.pi / (N * eps)\n",
    "    b = 0.5 * N * eps - k\n",
    "    u = np.arange(1, N + 1, 1)\n",
    "    vo = eta * (u - 1)\n",
    "\n",
    "    # Modifications to ensure integrability\n",
    "    if S0 >= 0.95 * K: # ITM Case\n",
    "        alpha = 1.5\n",
    "        v = vo - (alpha + 1) * 1j\n",
    "        modcharFunc = np.exp(-r * T) * (\n",
    "            B96_char_func(v, T, r, kappa_v, theta_v, sigma_v, rho, v0, lamb, mu, delta)\n",
    "            / (alpha**2 + alpha - vo**2 + 1j * (2 * alpha + 1) * vo)\n",
    "        )\n",
    "        # print(modcharFunc)\n",
    "    else:\n",
    "        alpha = 1.1\n",
    "        v = (vo - 1j * alpha) - 1j\n",
    "        modcharFunc1 = np.exp(-r * T) * (\n",
    "            1 / (1 + 1j * (vo - 1j * alpha ))\n",
    "            - np.exp(r * T) / (1j * (vo - 1j * alpha))\n",
    "            - B96_char_func(\n",
    "                v, T, r, kappa_v, theta_v, sigma_v, rho, v0, lamb, mu, delta\n",
    "            )\n",
    "            / ((vo - 1j * alpha) ** 2 - 1j * (vo + 1j * alpha))\n",
    "        )\n",
    "        # print(modcharFunc1)\n",
    "\n",
    "        v = (vo + 1j * alpha) - 1j\n",
    "\n",
    "        modcharFunc2 = np.exp(-r * T) * (\n",
    "            1 / (1 + 1j * (vo + 1j * alpha))\n",
    "            - np.exp(r * T) / (1j * (vo + 1j * alpha))\n",
    "            - B96_char_func(\n",
    "                v, T, r, kappa_v, theta_v, sigma_v, rho, v0, lamb, mu, delta\n",
    "            )\n",
    "            / ((vo + 1j * alpha) **2 - 1j * (vo + 1j * alpha))\n",
    "        )\n",
    "        # print(modcharFunc2)\n",
    "\n",
    "    # Numerical FFT Routine\n",
    "    delt = np.zeros(N)\n",
    "    delt[0] = 1\n",
    "    j = np.arange(1, N + 1, 1)\n",
    "    simpsonW = (3 + (-1) ** j - delt) / 3\n",
    "    if S0 >= 0.95 * K:\n",
    "        FFTFunc = np.exp(1j * b * vo) * modcharFunc * eta * simpsonW\n",
    "        payoff = (np.fft.fft(FFTFunc)).real\n",
    "        CallValueM = np.exp(-alpha * k) / np.pi * payoff\n",
    "    else:\n",
    "        FFTFunc = (\n",
    "            np.exp(1j * b * vo) * (modcharFunc1 - modcharFunc2) * 0.5 * eta * simpsonW\n",
    "        )\n",
    "        payoff = (np.fft.fft(FFTFunc)).real\n",
    "        CallValueM = payoff / (np.sinh(alpha * k) * np.pi)\n",
    "\n",
    "    pos = int((k + b) / eps)\n",
    "    CallValue = CallValueM[pos] * S0\n",
    "\n",
    "    return CallValue"
   ]
  },
  {
   "cell_type": "code",
   "execution_count": 50,
   "metadata": {},
   "outputs": [
    {
     "name": "stdout",
     "output_type": "stream",
     "text": [
      "B96 Call option price via FFT: $    8.9047\n"
     ]
    }
   ],
   "source": [
    "print(\n",
    "    \"B96 Call option price via FFT: $%10.4f\"\n",
    "    % B96_call_FFT(S0, K, T, r, kappa_v, theta_v, sigma_v, rho, v0, lamb, mu, delta)\n",
    ")"
   ]
  },
  {
   "cell_type": "code",
   "execution_count": null,
   "metadata": {},
   "outputs": [],
   "source": []
  }
 ],
 "metadata": {
  "kernelspec": {
   "display_name": "base",
   "language": "python",
   "name": "python3"
  },
  "language_info": {
   "codemirror_mode": {
    "name": "ipython",
    "version": 3
   },
   "file_extension": ".py",
   "mimetype": "text/x-python",
   "name": "python",
   "nbconvert_exporter": "python",
   "pygments_lexer": "ipython3",
   "version": "3.11.5"
  }
 },
 "nbformat": 4,
 "nbformat_minor": 2
}
